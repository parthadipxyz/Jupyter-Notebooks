{
 "cells": [
  {
   "cell_type": "code",
   "execution_count": 21,
   "metadata": {},
   "outputs": [
    {
     "ename": "AttributeError",
     "evalue": "'NoneType' object has no attribute 'load'",
     "output_type": "error",
     "traceback": [
      "\u001b[1;31m---------------------------------------------------------------------------\u001b[0m",
      "\u001b[1;31mAttributeError\u001b[0m                            Traceback (most recent call last)",
      "Cell \u001b[1;32mIn[21], line 47\u001b[0m\n\u001b[0;32m     45\u001b[0m \u001b[38;5;28;01mfor\u001b[39;00m i \u001b[38;5;129;01min\u001b[39;00m \u001b[38;5;28mrange\u001b[39m(\u001b[38;5;241m0\u001b[39m,\u001b[38;5;241m101\u001b[39m):\n\u001b[0;32m     46\u001b[0m  normal\u001b[38;5;241m=\u001b[39mImage\u001b[38;5;241m.\u001b[39mopen(\u001b[38;5;124m\"\u001b[39m\u001b[38;5;124mC:/Users/ELITEBOOK/Desktop/savedimg2/Normal/\u001b[39m\u001b[38;5;124m\"\u001b[39m\u001b[38;5;241m+\u001b[39m\u001b[38;5;28mstr\u001b[39m(i)\u001b[38;5;241m+\u001b[39m\u001b[38;5;124m\"\u001b[39m\u001b[38;5;124m.png\u001b[39m\u001b[38;5;124m\"\u001b[39m)\n\u001b[1;32m---> 47\u001b[0m  result2 \u001b[38;5;241m=\u001b[39m \u001b[43mImage\u001b[49m\u001b[38;5;241;43m.\u001b[39;49m\u001b[43malpha_composite\u001b[49m\u001b[43m(\u001b[49m\u001b[43mnormal\u001b[49m\u001b[43m,\u001b[49m\u001b[43m \u001b[49m\u001b[43mpadded_bolt\u001b[49m\u001b[43m)\u001b[49m\n\u001b[0;32m     48\u001b[0m  result2\u001b[38;5;241m.\u001b[39msave(\u001b[38;5;124m\"\u001b[39m\u001b[38;5;124mC:/Users/ELITEBOOK/Desktop/savedimg2/charged/\u001b[39m\u001b[38;5;124m\"\u001b[39m\u001b[38;5;241m+\u001b[39m\u001b[38;5;28mstr\u001b[39m(i)\u001b[38;5;241m+\u001b[39m\u001b[38;5;124m\"\u001b[39m\u001b[38;5;124mc.png\u001b[39m\u001b[38;5;124m\"\u001b[39m)\n",
      "File \u001b[1;32mc:\\Program Files\\Python312\\Lib\\site-packages\\PIL\\Image.py:3323\u001b[0m, in \u001b[0;36malpha_composite\u001b[1;34m(im1, im2)\u001b[0m\n\u001b[0;32m   3313\u001b[0m \u001b[38;5;250m\u001b[39m\u001b[38;5;124;03m\"\"\"\u001b[39;00m\n\u001b[0;32m   3314\u001b[0m \u001b[38;5;124;03mAlpha composite im2 over im1.\u001b[39;00m\n\u001b[0;32m   3315\u001b[0m \n\u001b[1;32m   (...)\u001b[0m\n\u001b[0;32m   3319\u001b[0m \u001b[38;5;124;03m:returns: An :py:class:`~PIL.Image.Image` object.\u001b[39;00m\n\u001b[0;32m   3320\u001b[0m \u001b[38;5;124;03m\"\"\"\u001b[39;00m\n\u001b[0;32m   3322\u001b[0m im1\u001b[38;5;241m.\u001b[39mload()\n\u001b[1;32m-> 3323\u001b[0m \u001b[43mim2\u001b[49m\u001b[38;5;241;43m.\u001b[39;49m\u001b[43mload\u001b[49m()\n\u001b[0;32m   3324\u001b[0m \u001b[38;5;28;01mreturn\u001b[39;00m im1\u001b[38;5;241m.\u001b[39m_new(core\u001b[38;5;241m.\u001b[39malpha_composite(im1\u001b[38;5;241m.\u001b[39mim, im2\u001b[38;5;241m.\u001b[39mim))\n",
      "\u001b[1;31mAttributeError\u001b[0m: 'NoneType' object has no attribute 'load'"
     ]
    }
   ],
   "source": [
    "from PIL import Image \n",
    "\n",
    "#BACKGROUND_IMAGE_PATH =r\"C:\\Users\\ELITEBOOK\\Desktop\\savedimg2\\battery.png\"\n",
    "bg=r\"C:\\Users\\ELITEBOOK\\Desktop\\savedimg2\\battery.png\"\n",
    "#fg1=r\"C:\\Users\\ELITEBOOK\\Desktop\\savedimg2\\0.png\"\n",
    "\n",
    "fg2=r\"C:\\Users\\ELITEBOOK\\Desktop\\savedimg2\\bolt.png\"\n",
    "\n",
    "for i in range(0,101):\n",
    "\n",
    " fg1 =\"C:/Users/ELITEBOOK/Desktop/savedimg2/\"+str(i)+\".png\"\n",
    " img1 = Image.open(bg) \n",
    " img1=img1.resize((120, 120))\n",
    "\n",
    " img2 = Image.open(fg1) \n",
    " img2=img2.resize((80, 80))\n",
    "\n",
    " \n",
    "  \n",
    "# No transparency mask specified,  \n",
    "# simulating an raster overlay \n",
    " #img1.paste(img2, (100,0)) \n",
    "  \n",
    " #img1.show() \n",
    " #img1.save(\"C:/Users/ELITEBOOK/Desktop/savedimg2/combined/charged//\"+str(i)+\"c.png\")\n",
    " #Image.alpha_composite(img1, img2).save(\"C:/Users/ELITEBOOK/Desktop/savedimg2/combined/charged//\"+str(i)+\"c.png\")\n",
    " padded_foreground = Image.new('RGBA', img1.size, (0, 0, 0, 0))\n",
    " \n",
    "# Paste the foreground image onto the padded image\n",
    " padded_foreground.paste(img2, (40, 40))\n",
    " \n",
    "# Merge the two images\n",
    " result = Image.alpha_composite(img1, padded_foreground)\n",
    " \n",
    "# Save the merged image\n",
    " result.save(\"C:/Users/ELITEBOOK/Desktop/savedimg2/Normal/\"+str(i)+\".png\")\n",
    " #normal=Image.open(\"C:/Users/ELITEBOOK/Desktop/savedimg2/Normal/\"+str(i)+\".png\")\n",
    " #result2 = Image.alpha_composite(normal, padded_bolt)\n",
    " #result2.save(\"C:/Users/ELITEBOOK/Desktop/savedimg2/charged/\"+str(i)+\"c.png\")\n",
    "\n",
    "\n"
   ]
  },
  {
   "cell_type": "code",
   "execution_count": 34,
   "metadata": {},
   "outputs": [],
   "source": [
    "img3 = Image.open(fg2) \n",
    "img3=img3.resize((90, 90))\n",
    "\n",
    "pfc=Image.new('RGBA', img1.size, (0, 0, 0, 0))\n",
    "pfc.paste(img3,(-15,30))\n",
    "\n",
    "for i in range(0,101):\n",
    " normal=Image.open(\"C:/Users/ELITEBOOK/Desktop/savedimg2/Normal/\"+str(i)+\".png\")\n",
    " result2 = Image.alpha_composite(normal,pfc)\n",
    " result2.save(\"C:/Users/ELITEBOOK/Desktop/savedimg2/charged/\"+str(i)+\"c.png\")\n"
   ]
  }
 ],
 "metadata": {
  "kernelspec": {
   "display_name": "Python 3",
   "language": "python",
   "name": "python3"
  },
  "language_info": {
   "codemirror_mode": {
    "name": "ipython",
    "version": 3
   },
   "file_extension": ".py",
   "mimetype": "text/x-python",
   "name": "python",
   "nbconvert_exporter": "python",
   "pygments_lexer": "ipython3",
   "version": "3.12.0"
  }
 },
 "nbformat": 4,
 "nbformat_minor": 2
}
