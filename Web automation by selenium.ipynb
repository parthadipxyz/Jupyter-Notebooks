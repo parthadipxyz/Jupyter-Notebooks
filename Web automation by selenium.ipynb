{
 "cells": [
  {
   "cell_type": "code",
   "execution_count": 1,
   "metadata": {},
   "outputs": [
    {
     "name": "stderr",
     "output_type": "stream",
     "text": [
      "C:\\Users\\ELITEBOOK\\AppData\\Local\\Temp\\ipykernel_12956\\199375044.py:13: DeprecationWarning: verbose=True is deprecated. Use `service_args=['--verbose', ...]` instead.\n",
      "  service = Service(verbose = True)\n"
     ]
    },
    {
     "ename": "KeyboardInterrupt",
     "evalue": "",
     "output_type": "error",
     "traceback": [
      "\u001b[1;31m---------------------------------------------------------------------------\u001b[0m",
      "\u001b[1;31mKeyboardInterrupt\u001b[0m                         Traceback (most recent call last)",
      "Cell \u001b[1;32mIn[1], line 47\u001b[0m\n\u001b[0;32m     42\u001b[0m    \u001b[38;5;66;03m#data = requests.get(src).content\u001b[39;00m\n\u001b[0;32m     45\u001b[0m    time\u001b[38;5;241m.\u001b[39msleep(\u001b[38;5;241m1\u001b[39m)\n\u001b[1;32m---> 47\u001b[0m \u001b[43mtime\u001b[49m\u001b[38;5;241;43m.\u001b[39;49m\u001b[43msleep\u001b[49m\u001b[43m(\u001b[49m\u001b[38;5;241;43m60\u001b[39;49m\u001b[43m)\u001b[49m\n\u001b[0;32m     48\u001b[0m \u001b[38;5;66;03m#d.find_element(By.ID, \"user_submit\").click()\u001b[39;00m\n\u001b[0;32m     49\u001b[0m time\u001b[38;5;241m.\u001b[39msleep(\u001b[38;5;241m4000\u001b[39m)  \u001b[38;5;66;03m# wait\u001b[39;00m\n",
      "\u001b[1;31mKeyboardInterrupt\u001b[0m: "
     ]
    }
   ],
   "source": [
    "\n",
    "\n",
    "#change as per requirement\n",
    "#chrome_path = \"C:\\\\edgewebdrvr\\\\msedgedriver.exe\"\n",
    "\n",
    "url = \"https://favicon.io/favicon-generator/\"\n",
    "from selenium import webdriver\n",
    "from selenium.webdriver.edge.service import Service\n",
    "from selenium.webdriver.common.by import By\n",
    "import time\n",
    "#import requests\n",
    "#import base64\n",
    "#from PIL import Image\n",
    "import urllib\n",
    "service = Service(verbose = True)\n",
    "\n",
    "\n",
    "\n",
    "with  webdriver.Edge(service = service) as d:\n",
    "   \n",
    "    d.get(url)\n",
    "    time.sleep(10)\n",
    "    d.find_element(By.ID, \"font-family\").send_keys(\"Oxygen\")\n",
    "    d.find_element(By.ID, \"background-color\").clear()\n",
    "    d.find_element(By.ID, \"background-color\").send_keys(\"#0b8c3b\") # #fa750f #0A5 #F00\n",
    "    d.find_element(By.ID, \"font-size\").clear()\n",
    "    d.find_element(By.ID, \"font-size\").send_keys(\"80\")\n",
    "    time.sleep(3)\n",
    "    \n",
    "    #d.find_element(By.ID, \"$font-variant.select\").clear()\n",
    "    d.find_element(By.ID, \"font-variant\").send_keys(\"Bold 700 Normal\")\n",
    "    text= d.find_element(By.ID, \"text\")\n",
    "    \n",
    "    for i in range (20,101):\n",
    "       text.clear()\n",
    "       text.send_keys(i)\n",
    "       uri= d.find_element(By.ID, \"preview-48x48\").get_attribute(\"src\")\n",
    "       #a= base64.b64decode(\"eW91ciB0ZXh0\")\n",
    "       #a.save(str(i)+\".png\",format=\"PNG\")\n",
    "       response = urllib.request.urlopen(uri)\n",
    "       with open(r\"C:/Users/ELITEBOOK/Desktop/savedimg2/\"+str(i)+\".png\", 'wb') as f:\n",
    "         f.write(response.file.read())\n",
    "       \n",
    "       #data = requests.get(src).content\n",
    "\n",
    "\n",
    "       time.sleep(1)\n",
    "\n",
    "    time.sleep(60)\n",
    "    #d.find_element(By.ID, \"user_submit\").click()\n",
    "    time.sleep(4000)  # wait\n",
    "\n",
    "print (\"Done\")"
   ]
  }
 ],
 "metadata": {
  "kernelspec": {
   "display_name": "Python 3",
   "language": "python",
   "name": "python3"
  },
  "language_info": {
   "codemirror_mode": {
    "name": "ipython",
    "version": 3
   },
   "file_extension": ".py",
   "mimetype": "text/x-python",
   "name": "python",
   "nbconvert_exporter": "python",
   "pygments_lexer": "ipython3",
   "version": "3.12.0"
  }
 },
 "nbformat": 4,
 "nbformat_minor": 2
}
